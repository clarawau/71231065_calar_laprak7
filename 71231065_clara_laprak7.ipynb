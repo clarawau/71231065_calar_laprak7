{
 "cells": [
  {
   "cell_type": "code",
   "execution_count": 4,
   "id": "7af528a2",
   "metadata": {},
   "outputs": [
    {
     "name": "stdout",
     "output_type": "stream",
     "text": [
      "Masukkan kata pertama: tama\n",
      "Masukkan kata kedua: amat\n",
      "tama dan amat adalah anagram.\n"
     ]
    }
   ],
   "source": [
    "def anagram(kata1, kata2):\n",
    "    kata1 = kata1.lower()\n",
    "    kata2 = kata2.lower()\n",
    "    if len(kata1) != len(kata2):\n",
    "        return False\n",
    "    kata_count = {}\n",
    "    for kata in kata1:\n",
    "        if kata in kata_count:\n",
    "            kata_count[kata] += 1\n",
    "        else:\n",
    "            kata_count[kata] = 1\n",
    "    for kata in kata2:\n",
    "        if kata in kata_count and kata_count[kata] > 0:\n",
    "            kata_count[kata] -= 1\n",
    "        else:\n",
    "            return False\n",
    "    return True\n",
    "kata1 = input(\"Masukkan kata pertama: \")\n",
    "kata2 = input(\"Masukkan kata kedua: \")\n",
    "if anagram(kata1, kata2):\n",
    "    print(f\"{kata1} dan {kata2} adalah anagram.\")\n",
    "else:\n",
    "    print(f\"{kata1} dan {kata2} bukan anagram.\")\n"
   ]
  },
  {
   "cell_type": "code",
   "execution_count": 9,
   "id": "9be457a3",
   "metadata": {},
   "outputs": [
    {
     "name": "stdout",
     "output_type": "stream",
     "text": [
      "masukan kalimat anda : aku jatuh cinta kepada kamu meski kamu tidak mencintaiku kamu kejam beut\n",
      "masukan kata yang ingin dihitung dalam kalimat : kamu\n",
      "Kata 'kamu' ada sebanyak 3 buah dalam kalimat.\n"
     ]
    }
   ],
   "source": [
    "def hitung_frekuensi_kata(kalimat, kata):\n",
    "    kalimat = kalimat.lower()\n",
    "    kata_kalimat = kalimat.split()\n",
    "    frekuensi = 0\n",
    "    for i in kata_kalimat:\n",
    "        if i.isalpha() and i == kata:\n",
    "            frekuensi += 1\n",
    "    return frekuensi\n",
    "kalimat = input(\"masukan kalimat anda : \")\n",
    "kata_cari = input(\"masukan kata yang ingin dihitung dalam kalimat : \")\n",
    "frekuensi_kata = hitung_frekuensi_kata(kalimat, kata_cari)\n",
    "print(f\"Kata '{kata_cari}' ada sebanyak {frekuensi_kata} buah dalam kalimat.\")\n"
   ]
  },
  {
   "cell_type": "code",
   "execution_count": 10,
   "id": "a4f8375a",
   "metadata": {},
   "outputs": [
    {
     "name": "stdout",
     "output_type": "stream",
     "text": [
      "Masukkan kalimat dengan spasi berlebih: hapus        cintahhh      \n",
      "String setelah menghapus spasi berlebih: hapus cintahhh\n"
     ]
    }
   ],
   "source": [
    "def hapus_spasi_berlebihan(string):\n",
    "    kalimat = string.split()\n",
    "    normalnya = ' '.join(kalimat)\n",
    "    return normalnya\n",
    "spasi = input(\"Masukkan kalimat dengan spasi berlebihan: \")\n",
    "hapus = hapus_spasi_berlebihan(spasi)\n",
    "print(\"kalimat setelah menghapus spasi berlebihan:\", hapus)\n"
   ]
  },
  {
   "cell_type": "code",
   "execution_count": 15,
   "id": "a39f7891",
   "metadata": {},
   "outputs": [
    {
     "name": "stdout",
     "output_type": "stream",
     "text": [
      "Masukkan kalimat: red snakes and a black frog in the pool\n",
      "Kata terpendek dalam kalimat: a\n",
      "Kata terpanjang dalam kalimat: snakes\n"
     ]
    }
   ],
   "source": [
    "def terpendek_dan_terpanjang(kalimat):\n",
    "    kalimatnya = kalimat.split()\n",
    "    terpendek = kalimatnya[0]\n",
    "    terpanjang = kalimatnya[0]\n",
    "    for kata in kalimatnya:\n",
    "        if len(kata) < len(terpendek):\n",
    "            terpendek = kata\n",
    "        elif len(kata) > len(terpanjang):\n",
    "            terpanjang = kata\n",
    "    return terpendek, terpanjang\n",
    "kalimat = input(\"Masukkan kalimat: \")\n",
    "terpendek, terpanjang = terpendek_dan_terpanjang(kalimat)\n",
    "print(\"Kata terpendek dalam kalimat:\", terpendek)\n",
    "print(\"Kata terpanjang dalam kalimat:\", terpanjang)\n"
   ]
  },
  {
   "cell_type": "code",
   "execution_count": null,
   "id": "4a332b92",
   "metadata": {},
   "outputs": [],
   "source": []
  }
 ],
 "metadata": {
  "kernelspec": {
   "display_name": "Python 3 (ipykernel)",
   "language": "python",
   "name": "python3"
  },
  "language_info": {
   "codemirror_mode": {
    "name": "ipython",
    "version": 3
   },
   "file_extension": ".py",
   "mimetype": "text/x-python",
   "name": "python",
   "nbconvert_exporter": "python",
   "pygments_lexer": "ipython3",
   "version": "3.11.5"
  }
 },
 "nbformat": 4,
 "nbformat_minor": 5
}
